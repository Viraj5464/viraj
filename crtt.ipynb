{
 "cells": [
  {
   "cell_type": "code",
   "execution_count": 11,
   "id": "04718ae2",
   "metadata": {},
   "outputs": [
    {
     "name": "stdout",
     "output_type": "stream",
     "text": [
      "2\n",
      "add 5\n",
      "insert 2 0\n"
     ]
    }
   ],
   "source": [
    "n=int(input())\n",
    "a=[]\n",
    "for i in range(n):\n",
    "    nm=list(map(str,input().split()))\n",
    "    if nm[0]==\"add\":\n",
    "            a.append(int(nm[1]))\n",
    "    if nm[0]==\"insert\":\n",
    "        a.insert(int(nm[2]),int(nm[1]))\n",
    "    if nm[0]==\"remove\":\n",
    "        r=int(nm[1])\n",
    "        a.remove(r)\n",
    "    else:\n",
    "            pass\n",
    "    if nm[0]==\"pop\":\n",
    "        v=a.pop()\n",
    "    if nm[0]==\"print\":\n",
    "        print(*a)\n"
   ]
  },
  {
   "cell_type": "code",
   "execution_count": 20,
   "id": "5680f933",
   "metadata": {},
   "outputs": [
    {
     "name": "stdout",
     "output_type": "stream",
     "text": [
      "hello\n",
      "30\n"
     ]
    }
   ],
   "source": [
    "#single inheritance\n",
    "class A:\n",
    "    name=\"viraj\"\n",
    "    age=20\n",
    "class B(A):\n",
    "    age=10\n",
    "#multilevel\n",
    "class C(B):\n",
    "    age=30\n",
    "class D(C):\n",
    "    name=\"hello\"\n",
    "obj=D()\n",
    "print(obj.name)\n",
    "print(obj.age)"
   ]
  },
  {
   "cell_type": "code",
   "execution_count": 24,
   "id": "0c71b176",
   "metadata": {},
   "outputs": [
    {
     "name": "stdout",
     "output_type": "stream",
     "text": [
      "Pragati\n",
      "3rd\n",
      "cse-ds\n",
      "63\n"
     ]
    }
   ],
   "source": [
    "class college:\n",
    "    name=\"Pragati\"\n",
    "class year(college):\n",
    "    yr=\"3rd\"\n",
    "class clss(year):\n",
    "    cs=\"cse-ds\"\n",
    "class student(clss):\n",
    "    rl=\"63\"\n",
    "obj=student()\n",
    "print(obj.name)\n",
    "print(obj.yr)\n",
    "print(obj.cs)\n",
    "print(obj.rl)"
   ]
  },
  {
   "cell_type": "code",
   "execution_count": 63,
   "id": "92fa8b7e",
   "metadata": {},
   "outputs": [],
   "source": [
    "#hierarchial\n",
    "class person:\n",
    "    name=\"\"\n",
    "    gender=\"\"\n",
    "    branch=\"\"\n",
    "    pass\n",
    "class faculty(person):\n",
    "    salary=1000\n",
    "    subject=\"\"\n",
    "    reportsto=\"\"\n",
    "    pass\n",
    "class vc(person):\n",
    "    def give_salary(self):\n",
    "        pass"
   ]
  },
  {
   "cell_type": "code",
   "execution_count": 25,
   "id": "26e324ab",
   "metadata": {},
   "outputs": [],
   "source": [
    "class chairman:\n",
    "    company=\"\"\n",
    "    pass\n",
    "class ceo(chairman):\n",
    "    pass\n",
    "class manager(chairman):\n",
    "    pass\n",
    "class hr(chairman):\n",
    "    pass\n",
    "class employee(chairman):\n",
    "    pass\n",
    "class intern(employee):\n",
    "    pass\n"
   ]
  },
  {
   "cell_type": "code",
   "execution_count": 52,
   "id": "e88a4c7a",
   "metadata": {},
   "outputs": [
    {
     "name": "stdout",
     "output_type": "stream",
     "text": [
      "parent class 1\n",
      "None\n"
     ]
    }
   ],
   "source": [
    "#multiple inheritance\n",
    "#diamond prob\n",
    "class p1:\n",
    "    def m1(self):\n",
    "        print(\"parent class 1\")\n",
    "class p2:\n",
    "    def m1(self):\n",
    "        print(\"parent class 2\")\n",
    "    pass\n",
    "class c(p1,p2):\n",
    "    pass\n",
    "obj=c()\n",
    "print(obj.m1())"
   ]
  },
  {
   "cell_type": "code",
   "execution_count": 61,
   "id": "2ffbf768",
   "metadata": {},
   "outputs": [
    {
     "name": "stdout",
     "output_type": "stream",
     "text": [
      "viraj\n",
      "20\n"
     ]
    }
   ],
   "source": [
    "class Child1:\n",
    "        name=\"viraj\"\n",
    "        age=\"20\"\n",
    "class Child2:\n",
    "        name=\"viraj\"\n",
    "        age=\"10\"\n",
    "class c(Child1,Child2):\n",
    "    pass\n",
    "obj=c()\n",
    "print(obj.name)\n",
    "print(obj.age)"
   ]
  },
  {
   "cell_type": "code",
   "execution_count": 67,
   "id": "764e7011",
   "metadata": {},
   "outputs": [],
   "source": [
    "from random import randint"
   ]
  },
  {
   "cell_type": "code",
   "execution_count": 85,
   "id": "4932e0fe",
   "metadata": {},
   "outputs": [],
   "source": [
    "a=randint(0,2)"
   ]
  },
  {
   "cell_type": "code",
   "execution_count": 86,
   "id": "b16a6b6a",
   "metadata": {},
   "outputs": [
    {
     "data": {
      "text/plain": [
       "2"
      ]
     },
     "execution_count": 86,
     "metadata": {},
     "output_type": "execute_result"
    }
   ],
   "source": [
    "a"
   ]
  },
  {
   "cell_type": "code",
   "execution_count": 105,
   "id": "00bc317e",
   "metadata": {},
   "outputs": [
    {
     "name": "stdout",
     "output_type": "stream",
     "text": [
      "select one choice\n",
      "0)rock 1)paper 2)scissors0\n",
      "odipoyav\n",
      "com:paper you:rock\n",
      "you have 0 point\n",
      "com score : 1\n",
      "\n",
      "0)rock 1)paper 2)scissors1\n",
      "gelichav bro\n",
      "com:rock you:paper\n",
      "you win\n",
      "you have 1 point\n",
      "com score : 1\n",
      "\n",
      "0)rock 1)paper 2)scissors1\n",
      "gelichav bro\n",
      "com:rock you:paper\n",
      "you win\n",
      "you have 2 point\n",
      "com score : 1\n",
      "\n",
      "0)rock 1)paper 2)scissors1\n",
      "gelichav bro\n",
      "com:rock you:paper\n",
      "you win\n",
      "you have 3 point\n",
      "com score : 1\n",
      "\n",
      "0)rock 1)paper 2)scissors1\n",
      "odipoyav\n",
      "com:scissors you:paper\n",
      "you have 3 point\n",
      "com score : 2\n",
      "\n",
      "0)rock 1)paper 2)scissors1\n",
      "gelichav bro\n",
      "com:rock you:paper\n",
      "you win\n",
      "you have 4 point\n",
      "com score : 2\n",
      "\n",
      "0)rock 1)paper 2)scissors1\n",
      "gelichav bro\n",
      "com:rock you:paper\n",
      "you win\n",
      "you have 5 point\n",
      "com score : 2\n",
      "\n",
      "Win ayyav\n"
     ]
    }
   ],
   "source": [
    "from random import randint\n",
    "print(\"select one choice\")\n",
    "a=randint(0,2)\n",
    "N=0\n",
    "c=0\n",
    "while N<5 and c<5:\n",
    "    n=int(input(\"0)rock 1)paper 2)scissors\"))\n",
    "    a=randint(0,2)\n",
    "    if a==0 and n==0:\n",
    "        print(\"iddardi rock ey...!try again\")\n",
    "        print(\"com:rock you:rock\")\n",
    "        print(\"tie\")\n",
    "        print(f\"you have {N} point\")\n",
    "        print(\"com score :\",c)\n",
    "        print()\n",
    "    if a==0 and n==1:\n",
    "        print(\"gelichav bro\")\n",
    "        print(\"com:rock you:paper\")\n",
    "        print(\"you win\")\n",
    "        N=N+1\n",
    "        print(f\"you have {N} point\")\n",
    "        print(\"com score :\",c)\n",
    "        print()\n",
    "    if a==0 and n==2:\n",
    "        print(\"odipoyav\")\n",
    "        print(\"com:rock you:scissors\")\n",
    "        print(\"you lose\")\n",
    "        c=c+1\n",
    "        print(f\"you have {N} point\")\n",
    "        print(\"com score :\",c)\n",
    "        print()\n",
    "    if a==1 and n==0:\n",
    "        print(\"odipoyav\")\n",
    "        print(\"com:paper you:rock\")\n",
    "        c=c+1\n",
    "        print(f\"you have {N} point\")\n",
    "        print(\"com score :\",c)\n",
    "        print()\n",
    "    if a==1 and n==1:\n",
    "        print(\"iddardi paper ey..!try again\")\n",
    "        print(\"com:paper you:paper\")\n",
    "        print(\"tie\")\n",
    "        print(f\"you have {N} point\")\n",
    "        print(\"com score :\",c)\n",
    "        print()\n",
    "    if a==1 and n==2:\n",
    "        print(\"gelichav bro\")\n",
    "        print(\"com:paper you:scissors\")\n",
    "        N=N+1\n",
    "        print(f\"you have {N} point\")\n",
    "        print(\"com score :\",c)\n",
    "        print()\n",
    "    if a==2 and n==0:\n",
    "        print(\"gelichav bro\")\n",
    "        print(\"com:scissors you:rock\")\n",
    "        N=N+1\n",
    "        print(f\"you have {N} point\")\n",
    "        print(\"com score :\",c)\n",
    "        print()\n",
    "    if a==2 and n==1:\n",
    "        print(\"odipoyav\")\n",
    "        print(\"com:scissors you:paper\")\n",
    "        c=c+1\n",
    "        print(f\"you have {N} point\")\n",
    "        print(\"com score :\",c)\n",
    "        print()\n",
    "    if a==2 and n==2:\n",
    "        print(\"iddardi scissors ey..! try again\")\n",
    "        print(\"com:scissors you:scissors\")\n",
    "        print(f\"you have {N} point\")\n",
    "        print(\"com score :\",c)\n",
    "        print()\n",
    "    if c==5:\n",
    "        print(\"ODIPOYAV\")\n",
    "    if N==5:\n",
    "        print(\"Win ayyav\")\n",
    "    if n>2:\n",
    "        print(\"ichina options lo choose chesuko bro\")\n",
    "    "
   ]
  },
  {
   "cell_type": "code",
   "execution_count": 151,
   "id": "7e5b9beb",
   "metadata": {},
   "outputs": [
    {
     "name": "stdout",
     "output_type": "stream",
     "text": [
      "12\n",
      "7\n",
      "1100\n",
      "111\n"
     ]
    }
   ],
   "source": [
    "a=int(input())\n",
    "b=int(input())\n",
    "c=bin(a)[2:]\n",
    "d=bin(b)[2:]\n",
    "print(c)\n",
    "print(d)"
   ]
  },
  {
   "cell_type": "code",
   "execution_count": 147,
   "id": "daba8a80",
   "metadata": {},
   "outputs": [],
   "source": [
    "d=c."
   ]
  },
  {
   "cell_type": "code",
   "execution_count": 148,
   "id": "119c215a",
   "metadata": {},
   "outputs": [
    {
     "data": {
      "text/plain": [
       "['1', '1', '1']"
      ]
     },
     "execution_count": 148,
     "metadata": {},
     "output_type": "execute_result"
    }
   ],
   "source": [
    "c"
   ]
  },
  {
   "cell_type": "code",
   "execution_count": 1,
   "id": "1cf62f78",
   "metadata": {},
   "outputs": [],
   "source": [
    "a=[1,2,3]"
   ]
  },
  {
   "cell_type": "code",
   "execution_count": 2,
   "id": "68e8a8dd",
   "metadata": {},
   "outputs": [],
   "source": [
    "a.reverse()"
   ]
  },
  {
   "cell_type": "code",
   "execution_count": 3,
   "id": "14e4b101",
   "metadata": {},
   "outputs": [
    {
     "data": {
      "text/plain": [
       "[3, 2, 1]"
      ]
     },
     "execution_count": 3,
     "metadata": {},
     "output_type": "execute_result"
    }
   ],
   "source": [
    "a"
   ]
  },
  {
   "cell_type": "code",
   "execution_count": 5,
   "id": "209e4778",
   "metadata": {},
   "outputs": [
    {
     "data": {
      "text/plain": [
       "4"
      ]
     },
     "execution_count": 5,
     "metadata": {},
     "output_type": "execute_result"
    }
   ],
   "source": [
    "1^5"
   ]
  },
  {
   "cell_type": "code",
   "execution_count": 57,
   "id": "3054a299",
   "metadata": {},
   "outputs": [
    {
     "name": "stdout",
     "output_type": "stream",
     "text": [
      "1 2 3 4 5\n",
      "1 2 3 4 5\n",
      "4 6 0 6 4\n"
     ]
    }
   ],
   "source": [
    "a=list(map(int,input().split()))\n",
    "b=list(map(int,input().split()))\n",
    "b.reverse()\n",
    "c=[]\n",
    "for item in range(len(a)):\n",
    "     c.append(a[item]^b[item])\n",
    "print(*c)"
   ]
  },
  {
   "cell_type": "code",
   "execution_count": 9,
   "id": "204a130a",
   "metadata": {},
   "outputs": [
    {
     "data": {
      "text/plain": [
       "[6, 5, 4, 3, 2, 1]"
      ]
     },
     "execution_count": 9,
     "metadata": {},
     "output_type": "execute_result"
    }
   ],
   "source": [
    "b"
   ]
  },
  {
   "cell_type": "code",
   "execution_count": 11,
   "id": "9ba98505",
   "metadata": {},
   "outputs": [
    {
     "name": "stdout",
     "output_type": "stream",
     "text": [
      "1 2 3 4 5\n",
      "1 2 3 4 5\n",
      "[4, 6, 0, 6, 4]\n"
     ]
    }
   ],
   "source": [
    "a=list(map(int,input().split()))\n",
    "b=list(map(int,input().split()))\n",
    "b.reverse()\n",
    "c=[]\n",
    "for item in range(len(a)):\n",
    "        c.append(a[item]^b[item])\n",
    "print(c)"
   ]
  },
  {
   "cell_type": "code",
   "execution_count": 12,
   "id": "1fff1d7d",
   "metadata": {},
   "outputs": [
    {
     "name": "stdout",
     "output_type": "stream",
     "text": [
      "4 6 0 6 4\n"
     ]
    }
   ],
   "source": [
    "print(*c)"
   ]
  },
  {
   "cell_type": "code",
   "execution_count": 18,
   "id": "bff2e28f",
   "metadata": {},
   "outputs": [],
   "source": [
    "a=[1,2,2,2,2,1]"
   ]
  },
  {
   "cell_type": "code",
   "execution_count": 32,
   "id": "845bece2",
   "metadata": {},
   "outputs": [
    {
     "name": "stdout",
     "output_type": "stream",
     "text": [
      "1 2 1 1 2\n",
      "[0, 3, 2, 0, 0]\n"
     ]
    }
   ],
   "source": [
    "n=list(map(int,input().split()))\n",
    "a=tuple(n)\n",
    "b=[]\n",
    "for i in range(len(n)):\n",
    "    b.append(a.count(i))\n",
    "print(b)"
   ]
  },
  {
   "cell_type": "code",
   "execution_count": 1,
   "id": "e40e8d9a",
   "metadata": {},
   "outputs": [
    {
     "name": "stdout",
     "output_type": "stream",
     "text": [
      "Collecting translate\n",
      "  Downloading translate-3.6.1-py2.py3-none-any.whl (12 kB)\n",
      "Collecting libretranslatepy==2.1.1\n",
      "  Downloading libretranslatepy-2.1.1-py3-none-any.whl (3.2 kB)\n",
      "Requirement already satisfied: click in c:\\users\\viraj\\anaconda3\\lib\\site-packages (from translate) (7.1.2)\n",
      "Requirement already satisfied: lxml in c:\\users\\viraj\\anaconda3\\lib\\site-packages (from translate) (4.6.3)\n",
      "Requirement already satisfied: requests in c:\\users\\viraj\\anaconda3\\lib\\site-packages (from translate) (2.28.1)\n",
      "Requirement already satisfied: charset-normalizer<3,>=2 in c:\\users\\viraj\\anaconda3\\lib\\site-packages (from requests->translate) (2.1.1)\n",
      "Requirement already satisfied: certifi>=2017.4.17 in c:\\users\\viraj\\anaconda3\\lib\\site-packages (from requests->translate) (2020.12.5)\n",
      "Requirement already satisfied: idna<4,>=2.5 in c:\\users\\viraj\\anaconda3\\lib\\site-packages (from requests->translate) (2.10)\n",
      "Requirement already satisfied: urllib3<1.27,>=1.21.1 in c:\\users\\viraj\\anaconda3\\lib\\site-packages (from requests->translate) (1.26.4)\n",
      "Installing collected packages: libretranslatepy, translate\n",
      "Successfully installed libretranslatepy-2.1.1 translate-3.6.1\n",
      "Note: you may need to restart the kernel to use updated packages.\n"
     ]
    }
   ],
   "source": [
    "pip install translate"
   ]
  },
  {
   "cell_type": "code",
   "execution_count": 40,
   "id": "c0a5e9ed",
   "metadata": {},
   "outputs": [
    {
     "name": "stdout",
     "output_type": "stream",
     "text": [
      "chittappa\n"
     ]
    }
   ],
   "source": [
    "from translate import Translator\n",
    "obj=Translator(from_lang=\"english\",to_lang=\"telugu\")\n",
    "new_name=obj.translate(\"water\")\n",
    "print(new_name)"
   ]
  },
  {
   "cell_type": "code",
   "execution_count": 45,
   "id": "da5def38",
   "metadata": {},
   "outputs": [
    {
     "name": "stdout",
     "output_type": "stream",
     "text": [
      "bow bow\n"
     ]
    }
   ],
   "source": [
    "class animals:\n",
    "    def dog(self):\n",
    "        print(\"bark\")\n",
    "class speak(animals):\n",
    "    \n",
    "    print(\"bow bow\")"
   ]
  },
  {
   "cell_type": "code",
   "execution_count": 46,
   "id": "85f9e3f7",
   "metadata": {},
   "outputs": [],
   "source": [
    "#abstract class"
   ]
  },
  {
   "cell_type": "code",
   "execution_count": 48,
   "id": "f3273564",
   "metadata": {},
   "outputs": [],
   "source": [
    "from abc import ABC\n",
    "\n",
    "class student(ABC):\n",
    "    def write_exam(self):\n",
    "        pass\n",
    "class A(student):\n",
    "    "
   ]
  },
  {
   "cell_type": "code",
   "execution_count": 51,
   "id": "4e5ee9f6",
   "metadata": {},
   "outputs": [
    {
     "ename": "TypeError",
     "evalue": "Can't instantiate abstract class square with abstract methods calculate_area",
     "output_type": "error",
     "traceback": [
      "\u001b[1;31m---------------------------------------------------------------------------\u001b[0m",
      "\u001b[1;31mTypeError\u001b[0m                                 Traceback (most recent call last)",
      "\u001b[1;32m<ipython-input-51-1cfd2ecca421>\u001b[0m in \u001b[0;36m<module>\u001b[1;34m\u001b[0m\n\u001b[0;32m      9\u001b[0m \u001b[1;32mclass\u001b[0m \u001b[0mrectangle\u001b[0m\u001b[1;33m(\u001b[0m\u001b[0marea\u001b[0m\u001b[1;33m)\u001b[0m\u001b[1;33m:\u001b[0m\u001b[1;33m\u001b[0m\u001b[1;33m\u001b[0m\u001b[0m\n\u001b[0;32m     10\u001b[0m     \u001b[1;32mpass\u001b[0m\u001b[1;33m\u001b[0m\u001b[1;33m\u001b[0m\u001b[0m\n\u001b[1;32m---> 11\u001b[1;33m \u001b[0mob\u001b[0m\u001b[1;33m=\u001b[0m\u001b[0msquare\u001b[0m\u001b[1;33m(\u001b[0m\u001b[1;33m)\u001b[0m\u001b[1;33m\u001b[0m\u001b[1;33m\u001b[0m\u001b[0m\n\u001b[0m\u001b[0;32m     12\u001b[0m \u001b[0mprint\u001b[0m\u001b[1;33m(\u001b[0m\u001b[0mob\u001b[0m\u001b[1;33m.\u001b[0m\u001b[0mcalculate_area\u001b[0m\u001b[1;33m(\u001b[0m\u001b[1;33m)\u001b[0m\u001b[1;33m)\u001b[0m\u001b[1;33m\u001b[0m\u001b[1;33m\u001b[0m\u001b[0m\n",
      "\u001b[1;31mTypeError\u001b[0m: Can't instantiate abstract class square with abstract methods calculate_area"
     ]
    }
   ],
   "source": [
    "from abc import ABC,abstractmethod\n",
    "#error\n",
    "class area(ABC):\n",
    "    @abstractmethod\n",
    "    def calculate_area(self):\n",
    "        print(\"area:\")\n",
    "class square(area):\n",
    "    pass\n",
    "class rectangle(area):\n",
    "    pass\n",
    "ob=square()\n",
    "print(ob.calculate_area())"
   ]
  },
  {
   "cell_type": "code",
   "execution_count": 54,
   "id": "e96b9fb9",
   "metadata": {},
   "outputs": [
    {
     "name": "stdout",
     "output_type": "stream",
     "text": [
      "in square\n",
      "None\n"
     ]
    }
   ],
   "source": [
    "class area(ABC):\n",
    "    @abstractmethod\n",
    "    def calculate_area(self):\n",
    "        print(\"area:\")\n",
    "class square(area):\n",
    "     def calculate_area(self):\n",
    "        print(\"in square\")\n",
    "class rectangle(area):\n",
    "    pass\n",
    "ob=square()\n",
    "print(ob.calculate_area())"
   ]
  },
  {
   "cell_type": "code",
   "execution_count": null,
   "id": "c038b200",
   "metadata": {},
   "outputs": [],
   "source": []
  }
 ],
 "metadata": {
  "kernelspec": {
   "display_name": "Python 3",
   "language": "python",
   "name": "python3"
  },
  "language_info": {
   "codemirror_mode": {
    "name": "ipython",
    "version": 3
   },
   "file_extension": ".py",
   "mimetype": "text/x-python",
   "name": "python",
   "nbconvert_exporter": "python",
   "pygments_lexer": "ipython3",
   "version": "3.8.8"
  }
 },
 "nbformat": 4,
 "nbformat_minor": 5
}
