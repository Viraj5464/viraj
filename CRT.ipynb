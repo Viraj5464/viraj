{
 "cells": [
  {
   "cell_type": "code",
   "execution_count": 1,
   "id": "6a3884ab",
   "metadata": {},
   "outputs": [],
   "source": [
    "db=[{'abc@example.com':'abc'},{'xyz@example.com':'123'}]\n"
   ]
  },
  {
   "cell_type": "code",
   "execution_count": 2,
   "id": "e869627f",
   "metadata": {},
   "outputs": [
    {
     "name": "stdout",
     "output_type": "stream",
     "text": [
      "[{'abc@example.com': 'abc'}, {'xyz@example.com': '123'}]\n"
     ]
    }
   ],
   "source": [
    "print(db)"
   ]
  },
  {
   "cell_type": "code",
   "execution_count": 3,
   "id": "f0823050",
   "metadata": {},
   "outputs": [
    {
     "name": "stdout",
     "output_type": "stream",
     "text": [
      "enter usernameabc@example.com\n",
      "enter passwordabc\n",
      "found\n"
     ]
    }
   ],
   "source": [
    "username=input(\"enter username\")\n",
    "password=input(\"enter password\")\n",
    "temp={username:password}\n",
    "if temp in db:\n",
    "    print(\"found\")\n",
    "else:\n",
    "    print(\"not found\")"
   ]
  },
  {
   "cell_type": "markdown",
   "id": "d5518ea0",
   "metadata": {},
   "source": []
  },
  {
   "cell_type": "code",
   "execution_count": 5,
   "id": "0eb8ddf6",
   "metadata": {},
   "outputs": [
    {
     "name": "stdout",
     "output_type": "stream",
     "text": [
      "enter username and password\n",
      "viraj 123\n",
      "viraj 1223\n",
      "enter username and password\n",
      "qss\n",
      "ss\n",
      "[{'key1': 'viraj 123', 'key2': 'viraj 1223'}, {'key1': 'qss', 'key2': 'ss'}]\n"
     ]
    }
   ],
   "source": [
    "l=[]\n",
    "for i in range(2):\n",
    "    d={}\n",
    "    print(\"enter username and password\")\n",
    "    a1=input()\n",
    "    a2=input()\n",
    "    d[\"key1\"]=a1\n",
    "    d['key2']=a2\n",
    "    l.append(d)\n",
    "print(l)"
   ]
  },
  {
   "cell_type": "code",
   "execution_count": 6,
   "id": "956a3b14",
   "metadata": {},
   "outputs": [
    {
     "name": "stdout",
     "output_type": "stream",
     "text": [
      "qss\n"
     ]
    }
   ],
   "source": [
    "print(a1)"
   ]
  },
  {
   "cell_type": "code",
   "execution_count": 18,
   "id": "e693f653",
   "metadata": {},
   "outputs": [
    {
     "name": "stdout",
     "output_type": "stream",
     "text": [
      "1\n",
      "1\n",
      "1\n",
      "2\n",
      "2\n",
      "2\n",
      "3\n",
      "3\n",
      "3\n",
      "4\n",
      "4\n",
      "4\n",
      "5\n",
      "5\n",
      "5\n",
      "6\n",
      "6\n",
      "6\n",
      "[[1, 1, 1], [2, 2, 2], [3, 3, 3]]\n",
      "[[4, 4, 4], [5, 5, 5], [6, 6, 6]]\n",
      "[[5, 5, 5], [7, 7, 7], [9, 9, 9]]\n"
     ]
    }
   ],
   "source": [
    "rw=3\n",
    "cl=3\n",
    "arr1=[]\n",
    "arr2=[]\n",
    "for i in range(rw):\n",
    "    ele1=[]\n",
    "    for j in range(cl):\n",
    "        ele=int(input())\n",
    "        ele1.append(ele)\n",
    "    arr1.append(ele1)\n",
    "for i in range(rw):\n",
    "    ele2=[]\n",
    "    for j in range(cl):\n",
    "        ele3=int(input())\n",
    "        ele2.append(ele3)\n",
    "    arr2.append(ele2)\n",
    "print(arr1)\n",
    "print(arr2)\n",
    "arr3=[]\n",
    "for i in range(rw):\n",
    "    add1=[]\n",
    "    for j in range(cl):\n",
    "        add=arr1[i][j]+arr2[i][j]\n",
    "        add1.append(add)\n",
    "    arr3.append(add1)\n",
    "print(arr3)"
   ]
  },
  {
   "cell_type": "code",
   "execution_count": 25,
   "id": "bff28527",
   "metadata": {},
   "outputs": [
    {
     "name": "stdout",
     "output_type": "stream",
     "text": [
      "1\n",
      "1\n",
      "1\n",
      "2\n",
      "2\n",
      "2\n",
      "3\n",
      "3\n",
      "3\n",
      "4\n",
      "4\n",
      "4\n",
      "5\n",
      "5\n",
      "5\n",
      "6\n",
      "6\n",
      "6\n",
      "[[5, 5, 5], [7, 7, 7], [9, 9, 9]]\n"
     ]
    }
   ],
   "source": [
    "rw=3\n",
    "cl=3\n",
    "arr1=[]\n",
    "arr2=[]\n",
    "for i in range(rw):\n",
    "    ele1=[]\n",
    "    for j in range(cl):\n",
    "        ele=int(input())\n",
    "        ele1.append(ele)\n",
    "    arr1.append(ele1)\n",
    "for i in range(rw):\n",
    "    ele2=[]\n",
    "    for j in range(cl):\n",
    "        ele3=int(input())\n",
    "        ele2.append(ele3)\n",
    "    arr2.append(ele2)\n",
    "res=[[0 for i in range(cl)] for j in range(rw)]\n",
    "for i in range(cl):\n",
    "    for j in range(rw):\n",
    "        res[i][j]=arr1[i][j]+arr2[i][j]\n",
    "print(res)"
   ]
  },
  {
   "cell_type": "code",
   "execution_count": 41,
   "id": "9eb66773",
   "metadata": {},
   "outputs": [
    {
     "name": "stdout",
     "output_type": "stream",
     "text": [
      "1 2 3 4\n",
      "1 2\n",
      "2 2 2 \n",
      "22\n"
     ]
    },
    {
     "data": {
      "text/plain": [
       "[22]"
      ]
     },
     "execution_count": 41,
     "metadata": {},
     "output_type": "execute_result"
    }
   ],
   "source": [
    "rw=3\n",
    "cl=4\n",
    "a=input().split( )\n",
    "for i in range(rw):\n",
    "    a=input().split( )\n",
    "    arr1=list(map(int,a))\n",
    "arr1"
   ]
  },
  {
   "cell_type": "code",
   "execution_count": 51,
   "id": "14729c5f",
   "metadata": {},
   "outputs": [
    {
     "name": "stdout",
     "output_type": "stream",
     "text": [
      "0\n",
      "1\n",
      "1\n",
      "2\n",
      "3\n",
      "5\n",
      "8\n",
      "13\n",
      "21\n",
      "34\n",
      "55\n",
      "89\n",
      "144\n",
      "233\n",
      "377\n",
      "610\n",
      "987\n",
      "1597\n",
      "2584\n",
      "4181\n",
      "6765\n",
      "10946\n",
      "17711\n",
      "28657\n",
      "46368\n"
     ]
    }
   ],
   "source": [
    "a=0\n",
    "b=1\n",
    "c=1\n",
    "print(a)\n",
    "print(b)\n",
    "for i in range(23):\n",
    "    c=a+b\n",
    "    a=b\n",
    "    b=c\n",
    "    print(c)"
   ]
  },
  {
   "cell_type": "code",
   "execution_count": 63,
   "id": "0346346b",
   "metadata": {},
   "outputs": [
    {
     "name": "stdout",
     "output_type": "stream",
     "text": [
      "['heLlo', 'world']\n"
     ]
    }
   ],
   "source": [
    "s=\"heLlo world\"\n",
    "res=s.split(' ')\n",
    "print(res)"
   ]
  },
  {
   "cell_type": "code",
   "execution_count": 64,
   "id": "dc5bbac3",
   "metadata": {},
   "outputs": [
    {
     "name": "stdout",
     "output_type": "stream",
     "text": [
      "heLlo-world\n"
     ]
    }
   ],
   "source": [
    "print('-'.join(res))"
   ]
  },
  {
   "cell_type": "code",
   "execution_count": 65,
   "id": "67ed993b",
   "metadata": {},
   "outputs": [
    {
     "data": {
      "text/plain": [
       "'Hello world'"
      ]
     },
     "execution_count": 65,
     "metadata": {},
     "output_type": "execute_result"
    }
   ],
   "source": [
    "s.capitalize()"
   ]
  },
  {
   "cell_type": "code",
   "execution_count": 66,
   "id": "a30931b9",
   "metadata": {},
   "outputs": [
    {
     "data": {
      "text/plain": [
       "'Hello World'"
      ]
     },
     "execution_count": 66,
     "metadata": {},
     "output_type": "execute_result"
    }
   ],
   "source": [
    "s.title()"
   ]
  },
  {
   "cell_type": "code",
   "execution_count": 67,
   "id": "bf09aa32",
   "metadata": {},
   "outputs": [
    {
     "data": {
      "text/plain": [
       "'HELLO WORLD'"
      ]
     },
     "execution_count": 67,
     "metadata": {},
     "output_type": "execute_result"
    }
   ],
   "source": [
    "s.upper()"
   ]
  },
  {
   "cell_type": "code",
   "execution_count": 68,
   "id": "444b9dd9",
   "metadata": {},
   "outputs": [
    {
     "data": {
      "text/plain": [
       "'hello world'"
      ]
     },
     "execution_count": 68,
     "metadata": {},
     "output_type": "execute_result"
    }
   ],
   "source": [
    "s.lower()"
   ]
  },
  {
   "cell_type": "code",
   "execution_count": 69,
   "id": "eb03020d",
   "metadata": {},
   "outputs": [
    {
     "data": {
      "text/plain": [
       "'HElLO WORLD'"
      ]
     },
     "execution_count": 69,
     "metadata": {},
     "output_type": "execute_result"
    }
   ],
   "source": [
    "s.swapcase()"
   ]
  },
  {
   "cell_type": "code",
   "execution_count": 85,
   "id": "1eb28819",
   "metadata": {},
   "outputs": [
    {
     "name": "stdout",
     "output_type": "stream",
     "text": [
      "The sq of 3.14 is 9.86\n"
     ]
    }
   ],
   "source": [
    "num=3.14\n",
    "print(\"The sq of {} is {:.2f}\".format(num,num*num))"
   ]
  },
  {
   "cell_type": "code",
   "execution_count": 87,
   "id": "14757b99",
   "metadata": {},
   "outputs": [
    {
     "name": "stdout",
     "output_type": "stream",
     "text": [
      "The sq of 3.14 is 9.8596\n"
     ]
    }
   ],
   "source": [
    "num=3.14\n",
    "print(f\"The sq of {num} is {num*num}\")"
   ]
  },
  {
   "cell_type": "code",
   "execution_count": 92,
   "id": "899acd65",
   "metadata": {},
   "outputs": [
    {
     "name": "stdout",
     "output_type": "stream",
     "text": [
      "10\n",
      "0\n",
      "b lo zero ichav ra haule\n"
     ]
    }
   ],
   "source": [
    "try:\n",
    "    a=int(input())\n",
    "    b=int(input())\n",
    "    print(a/b)\n",
    "except ZeroDivisionError:\n",
    "    print(\"b lo zero ichav ra haule\")"
   ]
  },
  {
   "cell_type": "code",
   "execution_count": 100,
   "id": "e37736ff",
   "metadata": {},
   "outputs": [
    {
     "name": "stdout",
     "output_type": "stream",
     "text": [
      "operation select chesuko\n",
      "1.+ 2.- 3.* 4./\n",
      "-111\n",
      "ichina options lo select chesuko bro\n"
     ]
    }
   ],
   "source": [
    "print(\"operation select chesuko\")\n",
    "print(\"1.+ 2.- 3.* 4./\")\n",
    "a=int(input())\n",
    "if a==1:\n",
    "    b=int(input())\n",
    "    c=int(input())\n",
    "    print(b+c)\n",
    "if a==2:\n",
    "    b=int(input())\n",
    "    c=int(input())\n",
    "    print(b-c)\n",
    "if a==3:\n",
    "    b=int(input())\n",
    "    c=int(input())\n",
    "    print(b*c)\n",
    "if a==4:\n",
    "    try:\n",
    "        b=int(input())\n",
    "        c=int(input())\n",
    "        print(b/c)\n",
    "    except:\n",
    "        print(\"denominator lo zero ichav bro\")\n",
    "if a>4 or a<=0:\n",
    "    print(\"ichina options lo select chesuko bro\")"
   ]
  },
  {
   "cell_type": "code",
   "execution_count": 111,
   "id": "a699726e",
   "metadata": {},
   "outputs": [
    {
     "name": "stdout",
     "output_type": "stream",
     "text": [
      "1\n",
      "2\n",
      "2\n",
      "3\n",
      "3\n",
      "[1, 2, 2, 3, 3]\n"
     ]
    }
   ],
   "source": [
    "try:\n",
    "    b=[]\n",
    "    for i in range(5):\n",
    "        a=int(input())\n",
    "        b.append(a)\n",
    "    print(b)\n",
    "except:\n",
    "    print(\"integers ivvu bro\")"
   ]
  },
  {
   "cell_type": "code",
   "execution_count": 114,
   "id": "979d0f44",
   "metadata": {},
   "outputs": [
    {
     "name": "stdout",
     "output_type": "stream",
     "text": [
      "6.3999999999999995\n"
     ]
    }
   ],
   "source": [
    "print(eval(\"1+3/5*9\"))"
   ]
  },
  {
   "cell_type": "code",
   "execution_count": 120,
   "id": "74e3fcb5",
   "metadata": {},
   "outputs": [],
   "source": [
    "def add(a,b):\n",
    "    return a+b"
   ]
  },
  {
   "cell_type": "code",
   "execution_count": 121,
   "id": "5d0aac29",
   "metadata": {},
   "outputs": [
    {
     "data": {
      "text/plain": [
       "11"
      ]
     },
     "execution_count": 121,
     "metadata": {},
     "output_type": "execute_result"
    }
   ],
   "source": [
    "add(5,6)"
   ]
  },
  {
   "cell_type": "code",
   "execution_count": 182,
   "id": "444dace0",
   "metadata": {},
   "outputs": [],
   "source": [
    "def isprime(a):\n",
    "    if a==1:\n",
    "        return False\n",
    "    for i in range(2,a):\n",
    "        if a%i==0:\n",
    "            return False\n",
    "    else:\n",
    "        return True"
   ]
  },
  {
   "cell_type": "code",
   "execution_count": 176,
   "id": "8cb14e15",
   "metadata": {},
   "outputs": [
    {
     "data": {
      "text/plain": [
       "False"
      ]
     },
     "execution_count": 176,
     "metadata": {},
     "output_type": "execute_result"
    }
   ],
   "source": [
    "isprime(10)"
   ]
  },
  {
   "cell_type": "raw",
   "id": "c494a425",
   "metadata": {},
   "source": [
    "# method 1\n",
    "for i in range(1,num+1)\n",
    "#2\n",
    "for i in range(2,num)\n",
    "#3\n",
    "for i in range(2,num//2)\n",
    "#4\n",
    "for i in range(2,(num**0.5)+1)"
   ]
  },
  {
   "cell_type": "code",
   "execution_count": 186,
   "id": "899c4545",
   "metadata": {},
   "outputs": [
    {
     "data": {
      "text/plain": [
       "True"
      ]
     },
     "execution_count": 186,
     "metadata": {},
     "output_type": "execute_result"
    }
   ],
   "source": [
    "isprime(1)"
   ]
  },
  {
   "cell_type": "code",
   "execution_count": 187,
   "id": "b7929379",
   "metadata": {},
   "outputs": [],
   "source": [
    "def show(a,b,c,d):\n",
    "    print(a,b,c,d)"
   ]
  },
  {
   "cell_type": "code",
   "execution_count": 188,
   "id": "8df80bcf",
   "metadata": {},
   "outputs": [
    {
     "name": "stdout",
     "output_type": "stream",
     "text": [
      "10 20 30 40\n"
     ]
    }
   ],
   "source": [
    "show(10,20,30,40)"
   ]
  },
  {
   "cell_type": "code",
   "execution_count": 193,
   "id": "e7f1405f",
   "metadata": {},
   "outputs": [
    {
     "name": "stdout",
     "output_type": "stream",
     "text": [
      "10 20 30 40\n"
     ]
    }
   ],
   "source": [
    "show(b=20,c=30,a=10,d=40)"
   ]
  },
  {
   "cell_type": "code",
   "execution_count": 11,
   "id": "0a6d6c2e",
   "metadata": {},
   "outputs": [],
   "source": [
    "def sumd(*a):\n",
    "     print(sum(list(a)))"
   ]
  },
  {
   "cell_type": "code",
   "execution_count": 13,
   "id": "b1a56f6b",
   "metadata": {},
   "outputs": [
    {
     "name": "stdout",
     "output_type": "stream",
     "text": [
      "12\n"
     ]
    }
   ],
   "source": [
    "sumd(10,2)"
   ]
  },
  {
   "cell_type": "code",
   "execution_count": 14,
   "id": "4c0b8119",
   "metadata": {},
   "outputs": [],
   "source": [
    "lis=[10,20,30]"
   ]
  },
  {
   "cell_type": "code",
   "execution_count": 15,
   "id": "a1dcfd89",
   "metadata": {},
   "outputs": [
    {
     "data": {
      "text/plain": [
       "60"
      ]
     },
     "execution_count": 15,
     "metadata": {},
     "output_type": "execute_result"
    }
   ],
   "source": [
    "sum(lis)"
   ]
  },
  {
   "cell_type": "code",
   "execution_count": 16,
   "id": "ec05637c",
   "metadata": {},
   "outputs": [],
   "source": [
    "def adaa(*a):\n",
    "    return sum(a)"
   ]
  },
  {
   "cell_type": "code",
   "execution_count": 17,
   "id": "9d8befe5",
   "metadata": {},
   "outputs": [
    {
     "data": {
      "text/plain": [
       "32"
      ]
     },
     "execution_count": 17,
     "metadata": {},
     "output_type": "execute_result"
    }
   ],
   "source": [
    "adaa(10,11,11)"
   ]
  },
  {
   "cell_type": "code",
   "execution_count": 18,
   "id": "0ab3dfda",
   "metadata": {},
   "outputs": [],
   "source": [
    "def check(n):\n",
    "    print(n)\n",
    "    if n>0:\n",
    "        check(n-1)"
   ]
  },
  {
   "cell_type": "code",
   "execution_count": 19,
   "id": "489cd1dc",
   "metadata": {},
   "outputs": [
    {
     "name": "stdout",
     "output_type": "stream",
     "text": [
      "10\n",
      "9\n",
      "8\n",
      "7\n",
      "6\n",
      "5\n",
      "4\n",
      "3\n",
      "2\n",
      "1\n",
      "0\n"
     ]
    }
   ],
   "source": [
    "check(10)"
   ]
  },
  {
   "cell_type": "code",
   "execution_count": null,
   "id": "5f5c1c18",
   "metadata": {},
   "outputs": [],
   "source": []
  }
 ],
 "metadata": {
  "kernelspec": {
   "display_name": "Python 3",
   "language": "python",
   "name": "python3"
  },
  "language_info": {
   "codemirror_mode": {
    "name": "ipython",
    "version": 3
   },
   "file_extension": ".py",
   "mimetype": "text/x-python",
   "name": "python",
   "nbconvert_exporter": "python",
   "pygments_lexer": "ipython3",
   "version": "3.8.8"
  }
 },
 "nbformat": 4,
 "nbformat_minor": 5
}
